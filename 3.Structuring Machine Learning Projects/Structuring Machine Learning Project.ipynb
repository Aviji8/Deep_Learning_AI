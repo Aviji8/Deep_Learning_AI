{
 "cells": [
  {
   "cell_type": "markdown",
   "metadata": {},
   "source": [
    "# Structuring Machine Learning Projects"
   ]
  },
  {
   "cell_type": "markdown",
   "metadata": {},
   "source": [
    "## Introduction to ML Strategy"
   ]
  },
  {
   "cell_type": "markdown",
   "metadata": {},
   "source": [
    "The challenge with deep learning is that there are many ways to improve a model:\n",
    "\n",
    "* Gather more data\n",
    "* Train the algorithm for a longer time\n",
    "* Change the architecture of the neural network\n",
    "* Get more diverse training set\n",
    "\n",
    "However, pursuing the wrong strategy can result in an importat loss of time and resources. You could be spending 6 months gathering more data only to realize that it barely improves the model. \n",
    "\n",
    "Therefore, it is important to have a good strategy when it comes to managing and improving machine learning projects."
   ]
  },
  {
   "cell_type": "markdown",
   "metadata": {},
   "source": [
    "## Orthogonalization"
   ]
  },
  {
   "cell_type": "markdown",
   "metadata": {},
   "source": [
    "The most effictive ML practitioners have a clear view of what parameters to tune in order to achieve a better result.\n",
    "\n",
    "Orthogonalization refers to having a control with a very specific function. A single control should impact only one variable or parameter. That way, it is much easier to tune to achieve an expected result. If multiple controls can affect a  single variable, then it is much harder to achieve an optimal result.\n",
    "\n",
    "**Show orthogonal graph**"
   ]
  },
  {
   "cell_type": "markdown",
   "metadata": {},
   "source": [
    "How does that translate to machine learning?\n",
    "\n",
    "We need to consider the chain of assumptions in machine learning. First, the model must perform well on the training set, meaning that the cost function is effectively minimized."
   ]
  }
 ],
 "metadata": {
  "kernelspec": {
   "display_name": "Python 3",
   "language": "python",
   "name": "python3"
  },
  "language_info": {
   "codemirror_mode": {
    "name": "ipython",
    "version": 3
   },
   "file_extension": ".py",
   "mimetype": "text/x-python",
   "name": "python",
   "nbconvert_exporter": "python",
   "pygments_lexer": "ipython3",
   "version": "3.6.6"
  }
 },
 "nbformat": 4,
 "nbformat_minor": 2
}
